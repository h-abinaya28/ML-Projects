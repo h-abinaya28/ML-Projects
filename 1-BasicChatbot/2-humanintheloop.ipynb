{
 "cells": [
  {
   "cell_type": "markdown",
   "id": "d108ce2e",
   "metadata": {},
   "source": [
    "### Human in the loop"
   ]
  },
  {
   "cell_type": "code",
   "execution_count": 1,
   "id": "7ebf959d",
   "metadata": {},
   "outputs": [
    {
     "data": {
      "text/plain": [
       "ChatGroq(client=<groq.resources.chat.completions.Completions object at 0x1126d8ec0>, async_client=<groq.resources.chat.completions.AsyncCompletions object at 0x1126da510>, model_name='llama3-8b-8192', model_kwargs={}, groq_api_key=SecretStr('**********'), http_client=<httpx.Client object at 0x1123d63c0>)"
      ]
     },
     "execution_count": 1,
     "metadata": {},
     "output_type": "execute_result"
    }
   ],
   "source": [
    "from langchain_groq import ChatGroq\n",
    "import os\n",
    "\n",
    "import httpx\n",
    "\n",
    "\n",
    "# llm = init_chat_model(\"groq:llama3-8b-8192\")\n",
    "# Create SSL-safe Groq client\n",
    "http_client = httpx.Client(verify=False)\n",
    "llm = ChatGroq(\n",
    "    model=\"llama3-8b-8192\",\n",
    "    api_key=os.getenv(\"GROQ_API_KEY\"),\n",
    "    http_client=http_client\n",
    ")\n",
    "llm"
   ]
  },
  {
   "cell_type": "code",
   "execution_count": 2,
   "id": "8f0b866e",
   "metadata": {},
   "outputs": [
    {
     "data": {
      "text/plain": [
       "<langgraph.graph.state.StateGraph at 0x1130ea660>"
      ]
     },
     "execution_count": 2,
     "metadata": {},
     "output_type": "execute_result"
    }
   ],
   "source": [
    "import urllib3\n",
    "from langchain_tavily import TavilySearch\n",
    "from typing import Annotated\n",
    "from typing_extensions import TypedDict\n",
    "from langchain_core.tools import tool\n",
    "from langgraph.graph import StateGraph, START, END\n",
    "from langgraph.graph.message import add_messages\n",
    "from langgraph.prebuilt import ToolNode, tools_condition\n",
    "from langgraph.types import Command, interrupt\n",
    "from langgraph.checkpoint.memory import MemorySaver\n",
    "\n",
    "from dotenv import load_dotenv\n",
    "\n",
    "load_dotenv()\n",
    "\n",
    "\n",
    "class State(TypedDict):\n",
    "    messages: Annotated[list, add_messages]\n",
    "\n",
    "\n",
    "graph_builder = StateGraph(State)\n",
    "\n",
    "\n",
    "@tool\n",
    "def human_assistance(query: str) -> str:\n",
    "    \"\"\"\n",
    "    Function to handle human assistance.\n",
    "    \"\"\"\n",
    "    human_response = interrupt({\"query\": query})\n",
    "    return human_response[\"data\"]\n",
    "\n",
    "\n",
    "urllib3.disable_warnings(urllib3.exceptions.InsecureRequestWarning)\n",
    "\n",
    "\n",
    "@tool\n",
    "def search_tavily(query: str) -> str:\n",
    "    \"\"\"Search for information using Tavily API.\"\"\"\n",
    "    import requests\n",
    "    import os\n",
    "\n",
    "    return requests.post(\"https://api.tavily.com/search\",\n",
    "                         json={\"api_key\": os.getenv(\"TAVILY_API_KEY\"),\n",
    "                               \"query\": query, \"max_results\": 3},\n",
    "                         verify=False).json()\n",
    "\n",
    "\n",
    "tools = [search_tavily, human_assistance]\n",
    "llm_with_tools = llm.bind_tools(tools)\n",
    "\n",
    "\n",
    "def chatbot(state: State):\n",
    "    return {\"messages\": [llm_with_tools.invoke(state[\"messages\"])]}\n",
    "\n",
    "\n",
    "graph_builder.add_node(\"chatbot\", chatbot)\n",
    "\n",
    "toolNode = ToolNode(tools=tools)\n",
    "graph_builder.add_node(\"tools\", toolNode)\n",
    "\n",
    "graph_builder.add_conditional_edges(\"chatbot\", tools_condition)\n",
    "\n",
    "graph_builder.add_edge(START, \"chatbot\")\n",
    "graph_builder.add_edge(\"tools\", \"chatbot\")"
   ]
  },
  {
   "cell_type": "code",
   "execution_count": 3,
   "id": "295b4da7",
   "metadata": {},
   "outputs": [],
   "source": [
    "memory = MemorySaver()\n",
    "graph = graph_builder.compile(checkpointer=memory)"
   ]
  },
  {
   "cell_type": "code",
   "execution_count": 4,
   "id": "8ca88e8e",
   "metadata": {},
   "outputs": [
    {
     "name": "stdout",
     "output_type": "stream",
     "text": [
      "================================\u001b[1m Human Message \u001b[0m=================================\n",
      "\n",
      "I need some expert guidance and assistance in building AI agents. Could you request assistance for me?\n",
      "==================================\u001b[1m Ai Message \u001b[0m==================================\n",
      "Tool Calls:\n",
      "  human_assistance (yh8pxf9vz)\n",
      " Call ID: yh8pxf9vz\n",
      "  Args:\n",
      "    query: Building AI agents\n"
     ]
    }
   ],
   "source": [
    "user_input = \"I need some expert guidance and assistance in building AI agents. Could you request assistance for me?\"\n",
    "config = {\"configurable\": {\"thread_id\": \"1\"}}\n",
    "\n",
    "events = graph.stream(\n",
    "    {\"messages\": user_input},\n",
    "    config,\n",
    "    stream_mode=\"values\",\n",
    ")\n",
    "\n",
    "for event in events:\n",
    "    if \"messages\" in event:\n",
    "        event[\"messages\"][-1].pretty_print()"
   ]
  },
  {
   "cell_type": "code",
   "execution_count": 5,
   "id": "fbc757ff",
   "metadata": {},
   "outputs": [
    {
     "name": "stdout",
     "output_type": "stream",
     "text": [
      "==================================\u001b[1m Ai Message \u001b[0m==================================\n",
      "Tool Calls:\n",
      "  human_assistance (yh8pxf9vz)\n",
      " Call ID: yh8pxf9vz\n",
      "  Args:\n",
      "    query: Building AI agents\n",
      "=================================\u001b[1m Tool Message \u001b[0m=================================\n",
      "Name: human_assistance\n",
      "\n",
      "I can help you with that. We'd recommend starting with the basics of AI agents.It's important to understand the fundamentals before diving into more complex topics.\n",
      "==================================\u001b[1m Ai Message \u001b[0m==================================\n",
      "\n",
      "Thank you for the tool call result! Based on the response, I can directly respond with the requested guidance:\n",
      "\n",
      "To build AI agents, it's essential to start with the basics. AI agents typically consist of three main components: perception, reasoning, and action. Perception involves gathering data and information from the environment, reasoning involves processing and analyzing that data to make decisions, and action involves taking actions based on those decisions.\n",
      "\n",
      "Some key concepts to understand when building AI agents include machine learning, artificial neural networks, decision-making algorithms, and natural language processing. It's also important to consider the type of AI agent you want to build, such as a rule-based agent, a machine learning-based agent, or a hybrid agent.\n",
      "\n",
      "Additionally, it's crucial to consider the ethics and potential biases when building AI agents. AI agents can have a significant impact on society, and it's important to ensure that they are designed and trained to be fair, transparent, and accountable.\n",
      "\n",
      "I hope this guidance helps! Do you have any specific questions or areas you'd like to explore further?\n"
     ]
    }
   ],
   "source": [
    "human_message = (\n",
    "    \"I can help you with that. We'd recommend starting with the basics of AI agents.\"\n",
    "    \"It's important to understand the fundamentals before diving into more complex topics.\"\n",
    ")\n",
    "\n",
    "human_command = Command(resume={\"data\": human_message})\n",
    "\n",
    "events = graph.stream(human_command, config, stream_mode=\"values\")\n",
    "for event in events:\n",
    "    if \"messages\" in event:\n",
    "        event[\"messages\"][-1].pretty_print()"
   ]
  }
 ],
 "metadata": {
  "kernelspec": {
   "display_name": "Agentic AI Workspace (3.13.4)",
   "language": "python",
   "name": "python3"
  },
  "language_info": {
   "codemirror_mode": {
    "name": "ipython",
    "version": 3
   },
   "file_extension": ".py",
   "mimetype": "text/x-python",
   "name": "python",
   "nbconvert_exporter": "python",
   "pygments_lexer": "ipython3",
   "version": "3.13.4"
  }
 },
 "nbformat": 4,
 "nbformat_minor": 5
}
