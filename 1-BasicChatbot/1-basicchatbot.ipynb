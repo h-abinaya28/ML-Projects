{
 "cells": [
  {
   "cell_type": "markdown",
   "id": "d418ba42",
   "metadata": {},
   "source": [
    "### Basic Chatbot with Langgraph (GRAPH API)"
   ]
  },
  {
   "cell_type": "code",
   "execution_count": 52,
   "id": "29fd2c3a",
   "metadata": {},
   "outputs": [],
   "source": [
    "from typing import Annotated\n",
    "from typing_extensions import TypedDict\n",
    "from langgraph.graph import StateGraph, START, END\n",
    "from langgraph.graph.message import add_messages"
   ]
  },
  {
   "cell_type": "code",
   "execution_count": 53,
   "id": "2fe3c7c1",
   "metadata": {
    "notebookRunGroups": {
     "groupValue": "2"
    }
   },
   "outputs": [],
   "source": [
    "class State(TypedDict):\n",
    "    messages: Annotated[list, add_messages]"
   ]
  },
  {
   "cell_type": "code",
   "execution_count": 54,
   "id": "8a3659a1",
   "metadata": {},
   "outputs": [
    {
     "data": {
      "text/plain": [
       "True"
      ]
     },
     "execution_count": 54,
     "metadata": {},
     "output_type": "execute_result"
    }
   ],
   "source": [
    "import os\n",
    "from dotenv import load_dotenv\n",
    "load_dotenv()"
   ]
  },
  {
   "cell_type": "code",
   "execution_count": 55,
   "id": "a65c3e25",
   "metadata": {},
   "outputs": [
    {
     "data": {
      "text/plain": [
       "ChatGroq(client=<groq.resources.chat.completions.Completions object at 0x1324d9a90>, async_client=<groq.resources.chat.completions.AsyncCompletions object at 0x1324dae90>, model_name='llama3-8b-8192', model_kwargs={}, groq_api_key=SecretStr('**********'), http_client=<httpx.Client object at 0x1324d96d0>)"
      ]
     },
     "execution_count": 55,
     "metadata": {},
     "output_type": "execute_result"
    }
   ],
   "source": [
    "from langchain_groq import ChatGroq\n",
    "\n",
    "import httpx\n",
    "\n",
    "\n",
    "# llm = init_chat_model(\"groq:llama3-8b-8192\")\n",
    "# Create SSL-safe Groq client\n",
    "http_client = httpx.Client(verify=False)\n",
    "llm = ChatGroq(\n",
    "    model=\"llama3-8b-8192\",\n",
    "    api_key=os.getenv(\"GROQ_API_KEY\"),\n",
    "    http_client=http_client\n",
    ")\n",
    "llm"
   ]
  },
  {
   "cell_type": "code",
   "execution_count": 56,
   "id": "a6ee1c77",
   "metadata": {},
   "outputs": [],
   "source": [
    "# node functionality\n",
    "def chatbot(state: State):\n",
    "    return {\"messages\": [llm.invoke(state[\"messages\"])]}"
   ]
  },
  {
   "cell_type": "code",
   "execution_count": 57,
   "id": "5caa5acd",
   "metadata": {},
   "outputs": [],
   "source": [
    "graph_builder = StateGraph(State)\n",
    "graph_builder.add_node(\"llmchatbot\", chatbot)\n",
    "graph_builder.add_edge(START, \"llmchatbot\")\n",
    "graph_builder.add_edge(\"llmchatbot\", END)\n",
    "\n",
    "graph = graph_builder.compile()"
   ]
  },
  {
   "cell_type": "code",
   "execution_count": 58,
   "id": "0c48934e",
   "metadata": {},
   "outputs": [
    {
     "name": "stdout",
     "output_type": "stream",
     "text": [
      "Error displaying graph: Failed to reach https://mermaid.ink/ API while trying to render your graph after 1 retries. To resolve this issue:\n",
      "1. Check your internet connection and try again\n",
      "2. Try with higher retry settings: `draw_mermaid_png(..., max_retries=5, retry_delay=2.0)`\n",
      "3. Use the Pyppeteer rendering method which will render your graph locally in a browser: `draw_mermaid_png(..., draw_method=MermaidDrawMethod.PYPPETEER)`\n"
     ]
    }
   ],
   "source": [
    "from IPython.display import Image, display\n",
    "\n",
    "try:\n",
    "    display(Image(graph.get_graph().draw_mermaid_png()))\n",
    "except Exception as e:\n",
    "    print(f\"Error displaying graph: {e}\")\n",
    "    pass"
   ]
  },
  {
   "cell_type": "code",
   "execution_count": 59,
   "id": "af001c11",
   "metadata": {},
   "outputs": [
    {
     "data": {
      "text/plain": [
       "\"Hi! It's nice to meet you. Is there something I can help you with or would you like to chat?\""
      ]
     },
     "execution_count": 59,
     "metadata": {},
     "output_type": "execute_result"
    }
   ],
   "source": [
    "response = graph.invoke({\"messages\": [\"Hi\"]})\n",
    "response[\"messages\"][-1].content"
   ]
  },
  {
   "cell_type": "code",
   "execution_count": 60,
   "id": "7b2330c2",
   "metadata": {},
   "outputs": [
    {
     "name": "stdout",
     "output_type": "stream",
     "text": [
      "I'm just a large language model, I don't have the ability to directly access real-time weather information. However, I can try to help you find out the weather forecast for your location or a specific location you're interested in.\n",
      "\n",
      "To do this, I can use a combination of natural language processing and web scraping techniques to retrieve the current weather conditions and forecast from a reliable online weather source, such as the National Weather Service (NWS) or a popular weather app.\n",
      "\n",
      "If you can provide me with the name of the city, state, or zip code you're interested in, I can try to provide you with the current weather conditions and forecast.\n",
      "\n",
      "Alternatively, you can also use a weather app or website to get the latest weather information.\n"
     ]
    }
   ],
   "source": [
    "for event in graph.stream({\"messages\": [\"Can you analyze?\", \"What is the weather like today?\"]}):\n",
    "    for values in event.values():\n",
    "        print(values[\"messages\"][-1].content)"
   ]
  },
  {
   "cell_type": "code",
   "execution_count": 61,
   "id": "bdaf7fe6",
   "metadata": {},
   "outputs": [
    {
     "data": {
      "text/plain": [
       "{'query': 'What is langchain?',\n",
       " 'follow_up_questions': None,\n",
       " 'answer': None,\n",
       " 'images': [],\n",
       " 'results': [{'url': 'https://python.langchain.com/docs/introduction/',\n",
       "   'title': 'Introduction | 🦜️   LangChain',\n",
       "   'content': \"*   Build a simple LLM application with chat models and prompt templates *   How to migrate from legacy LangChain agents to LangGraph *   How to use chat models to call tools *   How to pass tool outputs to chat models *   **`langchain`**: Chains, agents, and retrieval strategies that make up an application's cognitive architecture. However, these guides will help you quickly accomplish common tasks using chat models, vector stores, and other common LangChain components. LangChain is part of a rich ecosystem of tools that integrate with our framework and build on top of it. If you're looking to get up and running quickly with chat models, vector stores, or other LangChain components from a specific provider, check out our growing list of integrations.\",\n",
       "   'score': 0.8512743,\n",
       "   'raw_content': None},\n",
       "  {'url': 'https://aws.amazon.com/what-is/langchain/',\n",
       "   'title': 'What is LangChain? - AWS',\n",
       "   'content': 'If you agree, AWS and approved third parties will also use cookies to provide useful site features, remember your preferences, and display relevant content, including relevant advertising. Amazon EventBridge Serverless event bus for SaaS apps & AWS services What is AWS AWS Developer Center AWS Support AWS Managed Services Become an AWS Partner AWS Managed Services AWS Support AWS Support AWS Managed Services AWS Profile Explore Generative AI Services Build, deploy, and run generative AI applications on AWS LangChain provides AI developers with tools to connect language models with external data sources. You can connect Amazon Kendra to LangChain, which uses data from proprietary databases to refine language model outputs. Learn About AWS What Is AWS? Resources for AWS AWS Partners Developers on AWS',\n",
       "   'score': 0.80735475,\n",
       "   'raw_content': None},\n",
       "  {'url': 'https://www.langchain.com/',\n",
       "   'title': 'LangChain',\n",
       "   'content': \"Image 67 Image 68 Image 69 ###### ORCHESTRATION: ###### Build agents with LangGraph Image 70 Controllable agent orchestration with built-in persistence to handle conversational history, memory, and agent-to-agent collaboration. Image 75###### DEPLOYMENT: ###### Deploy &manage with LangGraph Platform Image 76 Deploy and scale enterprise-grade agents with long-running workflows. Image 77 Image 78 Image 79 Image 80 Image 81 Image 92 Image 93 Image 94 Image 95 Image 96 Image 97 Image 98 Image 99 Image 100 Image 101 Image 102 Image 103 Image 104 Trace using the TypeScript or Python SDK to gain visibility into your agent interactions -- whether you use LangChain's frameworks or not. Image 105 STACK 3:Any agent framework +LangGraph Platform Image 106 Image 110\",\n",
       "   'score': 0.29232803,\n",
       "   'raw_content': None}],\n",
       " 'response_time': 1.21}"
      ]
     },
     "execution_count": 61,
     "metadata": {},
     "output_type": "execute_result"
    }
   ],
   "source": [
    "from langchain_tavily import TavilySearch\n",
    "import urllib3\n",
    "urllib3.disable_warnings(urllib3.exceptions.InsecureRequestWarning)\n",
    "\n",
    "\n",
    "def search_tavily(query: str) -> str:\n",
    "    \"\"\"Search for information using Tavily API.\"\"\"\n",
    "    import requests\n",
    "    import os\n",
    "\n",
    "    return requests.post(\"https://api.tavily.com/search\",\n",
    "                         json={\"api_key\": os.getenv(\"TAVILY_API_KEY\"),\n",
    "                               \"query\": query, \"max_results\": 3},\n",
    "                         verify=False).json()\n",
    "\n",
    "\n",
    "tool = search_tavily(\"What is langchain?\")\n",
    "tool"
   ]
  },
  {
   "cell_type": "code",
   "execution_count": 62,
   "id": "1b978bc9",
   "metadata": {},
   "outputs": [],
   "source": [
    "def multiply(a: int, b: int) -> int:\n",
    "    \"\"\"\n",
    "    Multiplies two integers.\n",
    "\n",
    "    Args:\n",
    "        a (int): The first integer.\n",
    "        b (int): The second integer.\n",
    "\n",
    "    Returns:\n",
    "        int: The product of a and b.\n",
    "    \"\"\"\n",
    "    return a * b"
   ]
  },
  {
   "cell_type": "code",
   "execution_count": 63,
   "id": "00e891ef",
   "metadata": {},
   "outputs": [],
   "source": [
    "tools = [search_tavily, multiply]"
   ]
  },
  {
   "cell_type": "code",
   "execution_count": 64,
   "id": "9aac3c67",
   "metadata": {},
   "outputs": [
    {
     "data": {
      "text/plain": [
       "RunnableBinding(bound=ChatGroq(client=<groq.resources.chat.completions.Completions object at 0x1324d9a90>, async_client=<groq.resources.chat.completions.AsyncCompletions object at 0x1324dae90>, model_name='llama3-8b-8192', model_kwargs={}, groq_api_key=SecretStr('**********'), http_client=<httpx.Client object at 0x1324d96d0>), kwargs={'tools': [{'type': 'function', 'function': {'name': 'search_tavily', 'description': 'Search for information using Tavily API.', 'parameters': {'properties': {'query': {'type': 'string'}}, 'required': ['query'], 'type': 'object'}}}, {'type': 'function', 'function': {'name': 'multiply', 'description': 'Multiplies two integers.', 'parameters': {'properties': {'a': {'description': 'The first integer.', 'type': 'integer'}, 'b': {'description': 'The second integer.', 'type': 'integer'}}, 'required': ['a', 'b'], 'type': 'object'}}}]}, config={}, config_factories=[])"
      ]
     },
     "execution_count": 64,
     "metadata": {},
     "output_type": "execute_result"
    }
   ],
   "source": [
    "llm_with_tools = llm.bind_tools(tools)\n",
    "llm_with_tools"
   ]
  },
  {
   "cell_type": "code",
   "execution_count": 65,
   "id": "8004213a",
   "metadata": {},
   "outputs": [],
   "source": [
    "# StateGraph with tools\n",
    "from langgraph.graph import StateGraph, START, END\n",
    "from langgraph.prebuilt import ToolNode, tools_condition\n",
    "\n",
    "\n",
    "def tool_calling_llm(state: State):\n",
    "    return {\"messages\": [llm_with_tools.invoke(state[\"messages\"])]}\n",
    "\n",
    "\n",
    "builder = StateGraph(State)\n",
    "builder.add_node(\"tool_calling_llm\", tool_calling_llm)\n",
    "builder.add_node(\"tools\", ToolNode(tools))\n",
    "\n",
    "\n",
    "builder.add_edge(START, \"tool_calling_llm\")\n",
    "builder.add_conditional_edges(\"tool_calling_llm\", tools_condition)\n",
    "builder.add_edge(\"tools\", END)\n",
    "\n",
    "graph = builder.compile()"
   ]
  },
  {
   "cell_type": "code",
   "execution_count": 66,
   "id": "88511058",
   "metadata": {},
   "outputs": [
    {
     "data": {
      "text/plain": [
       "'{\"query\": \"recent AI news\", \"follow_up_questions\": null, \"answer\": null, \"images\": [], \"results\": [{\"url\": \"https://www.artificialintelligence-news.com/\", \"title\": \"AI News | Latest AI News, Analysis & Events\", \"content\": \"SoftBank chief: Forget AGI, ASI will be here within 10 years · Anthropic deploys AI agents to audit models for safety · Sam Altman: AI will cause job losses and\", \"score\": 0.7458619, \"raw_content\": null}, {\"url\": \"https://www.wsj.com/tech/ai?gaa_at=eafs&gaa_n=ASWzDAgZFafvyL3Q1nMgJuxlttRR_Hf5LedJGhSQdhjfAe1HeHKOoRbwUkJF&gaa_ts=6883cd43&gaa_sig=EyWiaY-P_uUMDWpolFN_ZbGYk7HRfmfSM0vwqHp1Qrkw1-ZSfWTh0DKsLVBTsIM48tMxH6pib0muPyi2tJ4Aww%3D%3D\", \"title\": \"Artificial Intelligence - Latest AI News and Analysis - WSJ.com\", \"content\": \"More in Artificial Intelligence · Google Revenue Soars on AI Boom, and Investors Eye Spending Surge · Walmart Taps Instacart Executive to Lead Its AI Ambitions.\", \"score\": 0.71113056, \"raw_content\": null}, {\"url\": \"https://techcrunch.com/category/artificial-intelligence/\", \"title\": \"AI News & Artificial Intelligence - TechCrunch\", \"content\": \"News coverage on artificial intelligence and machine learning tech, the companies building them, and the ethical issues AI raises today.\", \"score\": 0.5513086, \"raw_content\": null}], \"response_time\": 1.31}'"
      ]
     },
     "execution_count": 66,
     "metadata": {},
     "output_type": "execute_result"
    }
   ],
   "source": [
    "response = graph.invoke({\"messages\": [\"What is the recent AI news?\"]})\n",
    "response[\"messages\"][-1].content"
   ]
  },
  {
   "cell_type": "code",
   "execution_count": 67,
   "id": "9e4681ce",
   "metadata": {},
   "outputs": [
    {
     "name": "stdout",
     "output_type": "stream",
     "text": [
      "================================\u001b[1m Human Message \u001b[0m=================================\n",
      "\n",
      "What is the recent AI news?\n",
      "==================================\u001b[1m Ai Message \u001b[0m==================================\n",
      "Tool Calls:\n",
      "  search_tavily (eq2kj9kdc)\n",
      " Call ID: eq2kj9kdc\n",
      "  Args:\n",
      "    query: recent AI news\n",
      "=================================\u001b[1m Tool Message \u001b[0m=================================\n",
      "Name: search_tavily\n",
      "\n",
      "{\"query\": \"recent AI news\", \"follow_up_questions\": null, \"answer\": null, \"images\": [], \"results\": [{\"url\": \"https://www.artificialintelligence-news.com/\", \"title\": \"AI News | Latest AI News, Analysis & Events\", \"content\": \"SoftBank chief: Forget AGI, ASI will be here within 10 years · Anthropic deploys AI agents to audit models for safety · Sam Altman: AI will cause job losses and\", \"score\": 0.7458619, \"raw_content\": null}, {\"url\": \"https://www.wsj.com/tech/ai?gaa_at=eafs&gaa_n=ASWzDAgZFafvyL3Q1nMgJuxlttRR_Hf5LedJGhSQdhjfAe1HeHKOoRbwUkJF&gaa_ts=6883cd43&gaa_sig=EyWiaY-P_uUMDWpolFN_ZbGYk7HRfmfSM0vwqHp1Qrkw1-ZSfWTh0DKsLVBTsIM48tMxH6pib0muPyi2tJ4Aww%3D%3D\", \"title\": \"Artificial Intelligence - Latest AI News and Analysis - WSJ.com\", \"content\": \"More in Artificial Intelligence · Google Revenue Soars on AI Boom, and Investors Eye Spending Surge · Walmart Taps Instacart Executive to Lead Its AI Ambitions.\", \"score\": 0.71113056, \"raw_content\": null}, {\"url\": \"https://techcrunch.com/category/artificial-intelligence/\", \"title\": \"AI News & Artificial Intelligence - TechCrunch\", \"content\": \"News coverage on artificial intelligence and machine learning tech, the companies building them, and the ethical issues AI raises today.\", \"score\": 0.5513086, \"raw_content\": null}], \"response_time\": 1.31}\n"
     ]
    }
   ],
   "source": [
    "for message in response[\"messages\"]:\n",
    "    message.pretty_print()"
   ]
  },
  {
   "cell_type": "code",
   "execution_count": 68,
   "id": "568f52dd",
   "metadata": {},
   "outputs": [],
   "source": [
    "response = graph.invoke({\"messages\": [\n",
    "                        \"What is the recent AI news and What is 2 x 3 \"]})"
   ]
  },
  {
   "cell_type": "code",
   "execution_count": 69,
   "id": "d5e6180a",
   "metadata": {},
   "outputs": [
    {
     "name": "stdout",
     "output_type": "stream",
     "text": [
      "================================\u001b[1m Human Message \u001b[0m=================================\n",
      "\n",
      "What is the recent AI news and What is 2 x 3 \n",
      "==================================\u001b[1m Ai Message \u001b[0m==================================\n",
      "Tool Calls:\n",
      "  search_tavily (19y3sanvz)\n",
      " Call ID: 19y3sanvz\n",
      "  Args:\n",
      "    query: recent AI news\n",
      "  multiply (7rnwfdc1s)\n",
      " Call ID: 7rnwfdc1s\n",
      "  Args:\n",
      "    a: 2\n",
      "    b: 3\n",
      "=================================\u001b[1m Tool Message \u001b[0m=================================\n",
      "Name: search_tavily\n",
      "\n",
      "{\"query\": \"recent AI news\", \"follow_up_questions\": null, \"answer\": null, \"images\": [], \"results\": [{\"url\": \"https://www.artificialintelligence-news.com/\", \"title\": \"AI News | Latest AI News, Analysis & Events\", \"content\": \"SoftBank chief: Forget AGI, ASI will be here within 10 years · Anthropic deploys AI agents to audit models for safety · Sam Altman: AI will cause job losses and\", \"score\": 0.7463059, \"raw_content\": null}, {\"url\": \"https://www.wsj.com/tech/ai?gaa_at=eafs&gaa_n=ASWzDAhfkJYqUWJ88syrMCaOd1UHXiQ6oufaeteud_u516QPG9ldUysEgysl&gaa_ts=6883cd46&gaa_sig=7C2YIl1w2RK-k4NHuhZA2sJN-xht8VBkzplH-jZVy8mr6EDHSm2wzhHh37vclEaqwP-nOmbql0JijVxz-4bCzA%3D%3D\", \"title\": \"Artificial Intelligence - Latest AI News and Analysis - WSJ.com\", \"content\": \"More in Artificial Intelligence · Google Revenue Soars on AI Boom, and Investors Eye Spending Surge · Walmart Taps Instacart Executive to Lead Its AI Ambitions.\", \"score\": 0.7116118, \"raw_content\": null}, {\"url\": \"https://techcrunch.com/category/artificial-intelligence/\", \"title\": \"AI News & Artificial Intelligence - TechCrunch\", \"content\": \"News coverage on artificial intelligence and machine learning tech, the companies building them, and the ethical issues AI raises today.\", \"score\": 0.5513086, \"raw_content\": null}], \"response_time\": 2.53}\n",
      "=================================\u001b[1m Tool Message \u001b[0m=================================\n",
      "Name: multiply\n",
      "\n",
      "6\n"
     ]
    }
   ],
   "source": [
    "for message in response[\"messages\"]:\n",
    "    message.pretty_print()"
   ]
  },
  {
   "cell_type": "markdown",
   "id": "f75f27b5",
   "metadata": {},
   "source": [
    "### React Agent Architecture\n"
   ]
  },
  {
   "cell_type": "code",
   "execution_count": 74,
   "id": "26f11238",
   "metadata": {},
   "outputs": [],
   "source": [
    "\n",
    "# StateGraph with tools\n",
    "from langgraph.graph import StateGraph, START, END\n",
    "from langgraph.prebuilt import ToolNode, tools_condition\n",
    "\n",
    "\n",
    "def tool_calling_llm(state: State):\n",
    "    return {\"messages\": [llm_with_tools.invoke(state[\"messages\"])]}\n",
    "\n",
    "\n",
    "builder = StateGraph(State)\n",
    "builder.add_node(\"tool_calling_llm\", tool_calling_llm)\n",
    "builder.add_node(\"tools\", ToolNode(tools))\n",
    "\n",
    "\n",
    "builder.add_edge(START, \"tool_calling_llm\")\n",
    "builder.add_conditional_edges(\"tool_calling_llm\", tools_condition)\n",
    "builder.add_edge(\"tools\", \"tool_calling_llm\")\n",
    "\n",
    "\n",
    "graph = builder.compile()"
   ]
  },
  {
   "cell_type": "code",
   "execution_count": 75,
   "id": "9ee9bd80",
   "metadata": {},
   "outputs": [
    {
     "name": "stdout",
     "output_type": "stream",
     "text": [
      "================================\u001b[1m Human Message \u001b[0m=================================\n",
      "\n",
      "What is the recent AI news and then What is 2 x 3 ?\n",
      "==================================\u001b[1m Ai Message \u001b[0m==================================\n",
      "Tool Calls:\n",
      "  search_tavily (ksd946whe)\n",
      " Call ID: ksd946whe\n",
      "  Args:\n",
      "    query: recent AI news\n",
      "  multiply (ftyg8yfzq)\n",
      " Call ID: ftyg8yfzq\n",
      "  Args:\n",
      "    a: 2\n",
      "    b: 3\n",
      "=================================\u001b[1m Tool Message \u001b[0m=================================\n",
      "Name: search_tavily\n",
      "\n",
      "{\"query\": \"recent AI news\", \"follow_up_questions\": null, \"answer\": null, \"images\": [], \"results\": [{\"url\": \"https://www.artificialintelligence-news.com/\", \"title\": \"AI News | Latest AI News, Analysis & Events\", \"content\": \"SoftBank chief: Forget AGI, ASI will be here within 10 years · Anthropic deploys AI agents to audit models for safety · Sam Altman: AI will cause job losses and\", \"score\": 0.7458619, \"raw_content\": null}, {\"url\": \"https://www.wsj.com/tech/ai?gaa_at=eafs&gaa_n=ASWzDAjz7IVJt4Fi9SNhWyLPtTBTQoEz1t6dH3ZbMvXp2ce6ZPotF0QFl-c2&gaa_ts=6883cdbf&gaa_sig=ZoTA-GAeV-6Dw657BV38RVxGLEYoBXbAJBeKivpJfLOy72WQtE1JEUZZmMyyc3agKkFaI-J7h1-BGoapxOqr-Q%3D%3D\", \"title\": \"Artificial Intelligence - Latest AI News and Analysis - WSJ.com\", \"content\": \"More in Artificial Intelligence · Google Revenue Soars on AI Boom, and Investors Eye Spending Surge · Walmart Taps Instacart Executive to Lead Its AI Ambitions.\", \"score\": 0.71113056, \"raw_content\": null}, {\"url\": \"https://techcrunch.com/category/artificial-intelligence/\", \"title\": \"AI News & Artificial Intelligence - TechCrunch\", \"content\": \"News coverage on artificial intelligence and machine learning tech, the companies building them, and the ethical issues AI raises today.\", \"score\": 0.5513086, \"raw_content\": null}], \"response_time\": 1.15}\n",
      "=================================\u001b[1m Tool Message \u001b[0m=================================\n",
      "Name: multiply\n",
      "\n",
      "6\n",
      "==================================\u001b[1m Ai Message \u001b[0m==================================\n",
      "Tool Calls:\n",
      "  multiply (5dy7fdanw)\n",
      " Call ID: 5dy7fdanw\n",
      "  Args:\n",
      "    a: 2\n",
      "    b: 3\n",
      "=================================\u001b[1m Tool Message \u001b[0m=================================\n",
      "Name: multiply\n",
      "\n",
      "6\n",
      "==================================\u001b[1m Ai Message \u001b[0m==================================\n",
      "\n",
      "The answer to \"What is 2 x 3?\" is 6. You already got that answer.\n",
      "\n",
      "As for the recent AI news, the tool yielded some results. You can use those results to respond directly without using a tool.\n"
     ]
    }
   ],
   "source": [
    "\n",
    "response = graph.invoke({\"messages\": [\n",
    "    \"What is the recent AI news and then What is 2 x 3 ?\"]})\n",
    "\n",
    "for message in response[\"messages\"]:\n",
    "    message.pretty_print()"
   ]
  },
  {
   "cell_type": "code",
   "execution_count": 83,
   "id": "6cbf401c",
   "metadata": {},
   "outputs": [
    {
     "name": "stdout",
     "output_type": "stream",
     "text": [
      "================================\u001b[1m Human Message \u001b[0m=================================\n",
      "\n",
      "Hi My name is AAyush\n",
      "==================================\u001b[1m Ai Message \u001b[0m==================================\n",
      "Tool Calls:\n",
      "  search_tavily (cswaj8z6f)\n",
      " Call ID: cswaj8z6f\n",
      "  Args:\n",
      "    query: AAyush\n",
      "=================================\u001b[1m Tool Message \u001b[0m=================================\n",
      "Name: search_tavily\n",
      "\n",
      "{\"query\": \"AAyush\", \"follow_up_questions\": null, \"answer\": null, \"images\": [], \"results\": [{\"url\": \"https://en.wikipedia.org/wiki/Aayush_Sharma\", \"title\": \"Aayush Sharma - Wikipedia\", \"content\": \"Aayush Sharma (born 26 October 1990) is an Indian actor who works in Hindi films. He made his film debut with brother-in-law Salman Khan's production Loveyatri\", \"score\": 0.7795405, \"raw_content\": null}, {\"url\": \"https://www.amritocean.com/wellness-spa/aayush-hydrothermal/\", \"title\": \"Aayush Hydrothermal Therapy Florida - Amrit Ocean Resort\", \"content\": \"Explore transformative wellness at Amrit Ocean Resort's Aayush Hydrothermal therapy. Discover therapeutic water treatments & holistic healing on Palm Beach\", \"score\": 0.5230555, \"raw_content\": null}, {\"url\": \"https://www.instagram.com/aaysharma/?hl=en\", \"title\": \"Aayush Sharma (@aaysharma) • Instagram photos and videos\", \"content\": \"2M followers · 81 following · 527 posts · @aaysharma: “Full time actor, storyteller, dreamer & by hobby a photographer”\", \"score\": 0.39319915, \"raw_content\": null}], \"response_time\": 1.67}\n",
      "==================================\u001b[1m Ai Message \u001b[0m==================================\n",
      "Tool Calls:\n",
      "  multiply (fqwhdhr06)\n",
      " Call ID: fqwhdhr06\n",
      "  Args:\n",
      "    a: 2\n",
      "    b: 3\n",
      "=================================\u001b[1m Tool Message \u001b[0m=================================\n",
      "Name: multiply\n",
      "\n",
      "6\n",
      "==================================\u001b[1m Ai Message \u001b[0m==================================\n",
      "\n",
      "Hello AAyush! It seems like you're an Indian actor who works in Hindi films. You made your film debut with your brother-in-law Salman Khan's production Loveyatri. You also have a strong presence on social media platforms like Instagram.\n"
     ]
    }
   ],
   "source": [
    "response = graph.invoke({\"messages\": [\"Hi My name is AAyush\"]})\n",
    "for message in response[\"messages\"]:\n",
    "    message.pretty_print()"
   ]
  },
  {
   "cell_type": "code",
   "execution_count": 84,
   "id": "5a510387",
   "metadata": {},
   "outputs": [
    {
     "name": "stdout",
     "output_type": "stream",
     "text": [
      "I apologize for the confusion, but it seems that the tool call id \"kqwamfre5\" did not yield a relevant result. Based on the conversation, I understand that you are asking for your name, and the tool call id \"7ddx8bbp4\" yielded a list of YouTube videos and a wikiHow page.\n",
      "\n",
      "Since the tool call id \"kqwamfre5\" did not yield a relevant result, I will respond directly without using a tool.\n",
      "\n",
      "Unfortunately, I don't have the ability to know your name, as it was not provided. If you'd like to provide your name, I'd be happy to know it and address you by name in our conversation.\n"
     ]
    }
   ],
   "source": [
    "response = graph.invoke({\"messages\": [\"What is my name?\"]})\n",
    "print(response[\"messages\"][-1].content)"
   ]
  },
  {
   "cell_type": "code",
   "execution_count": 85,
   "id": "d3e30c4f",
   "metadata": {},
   "outputs": [
    {
     "name": "stdout",
     "output_type": "stream",
     "text": [
      "================================\u001b[1m Human Message \u001b[0m=================================\n",
      "\n",
      "What is my name?\n",
      "==================================\u001b[1m Ai Message \u001b[0m==================================\n",
      "Tool Calls:\n",
      "  search_tavily (7ddx8bbp4)\n",
      " Call ID: 7ddx8bbp4\n",
      "  Args:\n",
      "    query: What is my name?\n",
      "=================================\u001b[1m Tool Message \u001b[0m=================================\n",
      "Name: search_tavily\n",
      "\n",
      "{\"query\": \"What is my name?\", \"follow_up_questions\": null, \"answer\": null, \"images\": [], \"results\": [{\"url\": \"https://www.youtube.com/watch?v=y4tydaltDFY\", \"title\": \"KindlyNxsh - WHAT IS MY NAME? (Official Music Video) - YouTube\", \"content\": \"Share your videos with friends, family, and the world.\", \"score\": 0.47606868, \"raw_content\": null}, {\"url\": \"https://www.youtube.com/watch?v=_dyvXcv3ej0\", \"title\": \"What's My Name (from Descendants 2) (Official Video) - YouTube\", \"content\": \"What's My Name (from Descendants 2) (Official Video)\\n\\nDisneyMusicVEVO\\n2449889 likes\\n325711551 views\\n14 Jun 2017\\n\\\"Descendants/Zombies: Worlds Collide Tour\\\" is a one-of-a-kind interactive live concert experience coming to arenas across North America in Summer 2025. The tour will feature Kylie Cantrall, Freya Skye, Malia Baker, Malachi Barton, Dara Reneé, Joshua Colley and Mekonnen Knife. Kicking off in San Diego, CA on July 17, the arena tour will celebrate the chart-topping music from Disney’s “Descendants” and “Zombies” movie franchises, inspiring families, and fans of all ages to dance, sing, and engage with their favorite stars.\\n\\nYou can click here for more information on dates, locations, and tickets: disneynow.com/descendantszombiestour\\n\\nFor more Descendants music videos check out the Descendants Complete Collection: https://www.youtube.com/playlist?list=PLiNVoBckLqLk3oJYvmm5bGcxRprwdJh01\\n\\nCheck out the newest Descendants content here: https://www.youtube.com/playlist?list=PLHAfvwqfR5OD5OAoiiNB1UoMNoVkevbX4\\n\\nListen to your favorite songs from the Descendants soundtracks wherever you stream music.\\n\\nDescendants 1, Descendants 2, and Descendants 3 are now streaming on Disney+\\n\\nDisney+ is the ultimate streaming destination for entertainment from Disney, Pixar, Marvel, Star Wars, and National Geographic. Access it all at https://www.disneyplus.com/\\n\\nSubscribe to DisneyMusicVEVO 🔔 for all the latest Disney music videos: https://www.youtube.com/@DisneyMusicVEVO?sub_confirmation=1\\n\\nFollow Disney Music:\\nInstagram: https://www.instagram.com/disneymusic\\nFacebook: https://www.facebook.com/disneymusic\\nTikTok: https://www.tiktok.com/@disneymusic\\nX: https://www.twitter.com/disneymusic\\n\\nMusic video by China Anne McClain, Thomas Doherty, Dylan Playfair performing What's My Name. (C) 2017 Walt Disney Records\\n\\nhttp://vevo.ly/G3wJOc\\n102165 comments\", \"score\": 0.42634606, \"raw_content\": null}, {\"url\": \"https://www.wikihow.com/What-Is-My-Name\", \"title\": \"What Is My Name - wikiHow\", \"content\": \"Trying to guess a stranger’s name using just a simple quiz—impossible? Are we going to try anyway? Answer these questions about yourself, and we’ll guess your first name with stunning (ish) accuracy. Quizzes Are More Fun With Friends Share this quiz with your friends and compare results. Questions Overview More Quizzes The Official wikiHow Quiz Newsletter For example, a study conducted at Beijing’s Institute of Psychology suggests that people with very unique names are more likely to pursue unusual careers, to match the sense of identity they’ve gotten from their name all their life.[2] For more information about names, check out these resources: More Quizzes\", \"score\": 0.379241, \"raw_content\": null}], \"response_time\": 1.01}\n",
      "==================================\u001b[1m Ai Message \u001b[0m==================================\n",
      "Tool Calls:\n",
      "  multiply (kqwamfre5)\n",
      " Call ID: kqwamfre5\n",
      "  Args:\n",
      "    a: 0\n",
      "    b: 0\n",
      "=================================\u001b[1m Tool Message \u001b[0m=================================\n",
      "Name: multiply\n",
      "\n",
      "0\n",
      "==================================\u001b[1m Ai Message \u001b[0m==================================\n",
      "\n",
      "I apologize for the confusion, but it seems that the tool call id \"kqwamfre5\" did not yield a relevant result. Based on the conversation, I understand that you are asking for your name, and the tool call id \"7ddx8bbp4\" yielded a list of YouTube videos and a wikiHow page.\n",
      "\n",
      "Since the tool call id \"kqwamfre5\" did not yield a relevant result, I will respond directly without using a tool.\n",
      "\n",
      "Unfortunately, I don't have the ability to know your name, as it was not provided. If you'd like to provide your name, I'd be happy to know it and address you by name in our conversation.\n"
     ]
    }
   ],
   "source": [
    "for message in response[\"messages\"]:\n",
    "    message.pretty_print()"
   ]
  },
  {
   "cell_type": "markdown",
   "id": "40c568fb",
   "metadata": {},
   "source": [
    "### Adding Memory in Agentic Graph"
   ]
  },
  {
   "cell_type": "code",
   "execution_count": 86,
   "id": "61ff0d84",
   "metadata": {},
   "outputs": [],
   "source": [
    "# StateGraph with tools\n",
    "from langgraph.graph import StateGraph, START, END\n",
    "from langgraph.prebuilt import ToolNode, tools_condition\n",
    "from langgraph.checkpoint.memory import MemorySaver\n",
    "\n",
    "memory = MemorySaver()\n",
    "\n",
    "\n",
    "def tool_calling_llm(state: State):\n",
    "    return {\"messages\": [llm_with_tools.invoke(state[\"messages\"])]}\n",
    "\n",
    "\n",
    "builder = StateGraph(State)\n",
    "builder.add_node(\"tool_calling_llm\", tool_calling_llm)\n",
    "builder.add_node(\"tools\", ToolNode(tools))\n",
    "\n",
    "\n",
    "builder.add_edge(START, \"tool_calling_llm\")\n",
    "builder.add_conditional_edges(\"tool_calling_llm\", tools_condition)\n",
    "builder.add_edge(\"tools\", \"tool_calling_llm\")\n",
    "\n",
    "\n",
    "graph = builder.compile(checkpointer=memory)"
   ]
  },
  {
   "cell_type": "code",
   "execution_count": 89,
   "id": "0ab9763e",
   "metadata": {},
   "outputs": [
    {
     "data": {
      "text/plain": [
       "'You are Abhinaya, a 2-time award-winning Indian actress and model, known for your work in Tamil, Telugu, Kannada, and Malayalam films.'"
      ]
     },
     "execution_count": 89,
     "metadata": {},
     "output_type": "execute_result"
    }
   ],
   "source": [
    "config = {\"configurable\": {\"thread_id\": \"1\"}}\n",
    "response = graph.invoke({\"messages\": [\"Hi My name is ABINAYA\"]}, config=config)\n",
    "response[\"messages\"][-1].content"
   ]
  },
  {
   "cell_type": "code",
   "execution_count": 90,
   "id": "25a5d63d",
   "metadata": {},
   "outputs": [
    {
     "data": {
      "text/plain": [
       "'Your name is ABINAYA.'"
      ]
     },
     "execution_count": 90,
     "metadata": {},
     "output_type": "execute_result"
    }
   ],
   "source": [
    "response = graph.invoke(\n",
    "    {\"messages\": [\"Hi what is my name?\"]}, config=config)\n",
    "response[\"messages\"][-1].content"
   ]
  },
  {
   "cell_type": "code",
   "execution_count": null,
   "id": "83c535a6",
   "metadata": {},
   "outputs": [
    {
     "data": {
      "text/plain": [
       "'Yes, I remember! Your name is Abinaya!'"
      ]
     },
     "execution_count": 47,
     "metadata": {},
     "output_type": "execute_result"
    }
   ],
   "source": [
    "response = graph.invoke(\n",
    "    {\"messages\": [\"Hi do u remember my name?\"]}, config=config)\n",
    "response[\"messages\"][-1].content"
   ]
  },
  {
   "cell_type": "markdown",
   "id": "1d32d889",
   "metadata": {},
   "source": [
    "### Streaming in Langraph"
   ]
  },
  {
   "cell_type": "code",
   "execution_count": 91,
   "id": "51d98d30",
   "metadata": {},
   "outputs": [],
   "source": [
    "from langgraph.checkpoint.memory import MemorySaver\n",
    "memory = MemorySaver()"
   ]
  },
  {
   "cell_type": "code",
   "execution_count": 98,
   "id": "9321fbaf",
   "metadata": {
    "notebookRunGroups": {
     "groupValue": "1"
    }
   },
   "outputs": [],
   "source": [
    "def superbot(state: State):\n",
    "    return {\"messages\": [llm.invoke(state[\"messages\"])]}"
   ]
  },
  {
   "cell_type": "code",
   "execution_count": 100,
   "id": "6b14042e",
   "metadata": {},
   "outputs": [],
   "source": [
    "graph = StateGraph(State)\n",
    "\n",
    "graph.add_node(\"superbot\", superbot)\n",
    "\n",
    "graph.add_edge(START, \"superbot\")\n",
    "graph.add_edge(\"superbot\", END)\n",
    "\n",
    "llm\n",
    "graph_builder = graph.compile(checkpointer=memory)"
   ]
  },
  {
   "cell_type": "code",
   "execution_count": 101,
   "id": "3f7bed19",
   "metadata": {},
   "outputs": [
    {
     "name": "stdout",
     "output_type": "stream",
     "text": [
      "{'superbot': {'messages': [AIMessage(content=\"Nice to meet you, Abinaya! Home decor is such a fascinating topic! What is it about home decor that you enjoy the most? Is it the process of designing and arranging spaces, or do you have a particular style or era that you're drawn to?\", additional_kwargs={}, response_metadata={'token_usage': {'completion_tokens': 55, 'prompt_tokens': 46, 'total_tokens': 101, 'completion_time': 0.075518362, 'prompt_time': 0.00654337, 'queue_time': 0.001475652000000001, 'total_time': 0.082061732}, 'model_name': 'llama3-8b-8192', 'system_fingerprint': 'fp_0fb809dba3', 'service_tier': 'on_demand', 'finish_reason': 'stop', 'logprobs': None}, id='run--1e7126c5-0eb8-48e5-ad74-3bf5e817e5cd-0', usage_metadata={'input_tokens': 46, 'output_tokens': 55, 'total_tokens': 101})]}}\n"
     ]
    }
   ],
   "source": [
    "config = {\"configurable\": {\"thread_id\": \"3\"}}\n",
    "\n",
    "for chunk in graph_builder.stream(\n",
    "        {\"messages\": [\"Hi My name is ABINAYA and I like Home decor\"]}, config=config, stream_mode=\"updates\"):\n",
    "    print(chunk)"
   ]
  },
  {
   "cell_type": "code",
   "execution_count": 102,
   "id": "a75f677a",
   "metadata": {},
   "outputs": [
    {
     "name": "stdout",
     "output_type": "stream",
     "text": [
      "{'messages': [HumanMessage(content='Hi My name is ABINAYA and I like Home decor', additional_kwargs={}, response_metadata={}, id='42ed97a5-da07-42fc-97e3-f8903d2673e9'), HumanMessage(content='Hi My name is ABINAYA and I like Home decor', additional_kwargs={}, response_metadata={}, id='c47a074b-65b9-4797-993c-2403bb1c46c2'), AIMessage(content=\"Nice to meet you, Abinaya! Home decor is such a fascinating topic! What is it about home decor that you enjoy the most? Is it the process of designing and arranging spaces, or do you have a particular style or era that you're drawn to?\", additional_kwargs={}, response_metadata={'token_usage': {'completion_tokens': 55, 'prompt_tokens': 46, 'total_tokens': 101, 'completion_time': 0.075518362, 'prompt_time': 0.00654337, 'queue_time': 0.001475652000000001, 'total_time': 0.082061732}, 'model_name': 'llama3-8b-8192', 'system_fingerprint': 'fp_0fb809dba3', 'service_tier': 'on_demand', 'finish_reason': 'stop', 'logprobs': None}, id='run--1e7126c5-0eb8-48e5-ad74-3bf5e817e5cd-0', usage_metadata={'input_tokens': 46, 'output_tokens': 55, 'total_tokens': 101}), HumanMessage(content='Hi My name is ABINAYA and I like Home decor', additional_kwargs={}, response_metadata={}, id='d6279e7a-0b9d-4c35-a2df-f005d5e71032')]}\n",
      "{'messages': [HumanMessage(content='Hi My name is ABINAYA and I like Home decor', additional_kwargs={}, response_metadata={}, id='42ed97a5-da07-42fc-97e3-f8903d2673e9'), HumanMessage(content='Hi My name is ABINAYA and I like Home decor', additional_kwargs={}, response_metadata={}, id='c47a074b-65b9-4797-993c-2403bb1c46c2'), AIMessage(content=\"Nice to meet you, Abinaya! Home decor is such a fascinating topic! What is it about home decor that you enjoy the most? Is it the process of designing and arranging spaces, or do you have a particular style or era that you're drawn to?\", additional_kwargs={}, response_metadata={'token_usage': {'completion_tokens': 55, 'prompt_tokens': 46, 'total_tokens': 101, 'completion_time': 0.075518362, 'prompt_time': 0.00654337, 'queue_time': 0.001475652000000001, 'total_time': 0.082061732}, 'model_name': 'llama3-8b-8192', 'system_fingerprint': 'fp_0fb809dba3', 'service_tier': 'on_demand', 'finish_reason': 'stop', 'logprobs': None}, id='run--1e7126c5-0eb8-48e5-ad74-3bf5e817e5cd-0', usage_metadata={'input_tokens': 46, 'output_tokens': 55, 'total_tokens': 101}), HumanMessage(content='Hi My name is ABINAYA and I like Home decor', additional_kwargs={}, response_metadata={}, id='d6279e7a-0b9d-4c35-a2df-f005d5e71032'), AIMessage(content=\"Nice to meet you, Abinaya! Home decor is such a fascinating topic! What is it about home decor that you enjoy the most? Is it the process of designing and arranging spaces, or do you have a particular style or era that you're drawn to?\", additional_kwargs={}, response_metadata={'token_usage': {'completion_tokens': 55, 'prompt_tokens': 123, 'total_tokens': 178, 'completion_time': 0.068466545, 'prompt_time': 0.014733433, 'queue_time': 0.31375883, 'total_time': 0.083199978}, 'model_name': 'llama3-8b-8192', 'system_fingerprint': 'fp_0fb809dba3', 'service_tier': 'on_demand', 'finish_reason': 'stop', 'logprobs': None}, id='run--d62d2137-6a50-4752-97e8-230998e31f65-0', usage_metadata={'input_tokens': 123, 'output_tokens': 55, 'total_tokens': 178})]}\n"
     ]
    }
   ],
   "source": [
    "for chunk in graph_builder.stream(\n",
    "        {\"messages\": [\"Hi My name is ABINAYA and I like Home decor\"]}, config=config, stream_mode=\"values\"):\n",
    "    print(chunk)"
   ]
  },
  {
   "cell_type": "code",
   "execution_count": 104,
   "id": "a10b08a3",
   "metadata": {},
   "outputs": [
    {
     "name": "stdout",
     "output_type": "stream",
     "text": [
      "{'superbot': {'messages': [AIMessage(content=\"Hi Abinaya!\\n\\nIt's great to meet you! Home decor is a fascinating topic. What is it about home decor that you enjoy the most? Is it the creative process of designing a space, the art of mixing and matching different styles, or the joy of making a space feel cozy and inviting?\\n\\nDo you have a favorite style or era of home decor that inspires you, such as modern, minimalist, vintage, or bohemian?\\n\\nLet's chat about your love for home decor and see if we can discover some common interests or find some inspiration for your own home decor projects!\", additional_kwargs={}, response_metadata={'token_usage': {'completion_tokens': 120, 'prompt_tokens': 377, 'total_tokens': 497, 'completion_time': 0.117826008, 'prompt_time': 0.042676811, 'queue_time': 0.0017943090000000009, 'total_time': 0.160502819}, 'model_name': 'llama3-8b-8192', 'system_fingerprint': 'fp_5b339000ab', 'service_tier': 'on_demand', 'finish_reason': 'stop', 'logprobs': None}, id='run--f0abe601-2150-411f-8294-51f1705a7854-0', usage_metadata={'input_tokens': 377, 'output_tokens': 120, 'total_tokens': 497})]}}\n",
      "{'messages': [HumanMessage(content='Hi My name is ABINAYA and I like Home decor', additional_kwargs={}, response_metadata={}, id='b53e4f11-2c17-4385-b097-7a00196903b7'), AIMessage(content=\"Hi Abinaya!\\n\\nIt's great to meet you! Home decor is a fascinating topic. What is it about home decor that you enjoy the most? Is it the creative process of designing a space, the art of mixing and matching different styles, or the joy of making a space feel cozy and inviting?\\n\\nDo you have a favorite style or era of home decor that inspires you, such as modern, minimalist, vintage, or bohemian?\\n\\nLet's chat about your love for home decor and see if we can discover some common interests or find some inspiration for your own home decor projects!\", additional_kwargs={}, response_metadata={'token_usage': {'completion_tokens': 120, 'prompt_tokens': 23, 'total_tokens': 143, 'completion_time': 0.116722921, 'prompt_time': 0.006725848, 'queue_time': 0.0012129239999999998, 'total_time': 0.123448769}, 'model_name': 'llama3-8b-8192', 'system_fingerprint': 'fp_5b339000ab', 'service_tier': 'on_demand', 'finish_reason': 'stop', 'logprobs': None}, id='run--6a5f44c3-052c-4a3e-917a-5146608785cd-0', usage_metadata={'input_tokens': 23, 'output_tokens': 120, 'total_tokens': 143}), HumanMessage(content='I like a traditional and transitional styles ', additional_kwargs={}, response_metadata={}, id='31c7f508-684f-4ea4-b6f6-13a492885a1d'), AIMessage(content=\"Traditional and transitional styles are both beautiful and timeless!\\n\\nTraditional style is known for its classic, elegant, and sophisticated look, often characterized by ornate details, rich textures, and classic patterns. It's a style that exudes warmth and comfort, making it perfect for creating a cozy and inviting atmosphere.\\n\\nTransitional style, on the other hand, blends traditional and modern elements to create a look that's both classic and contemporary. It's a style that's all about balance and harmony, combining the best of both worlds to create a space that's both beautiful and functional.\\n\\nWhat is it about traditional and transitional styles that speaks to you? Is it the classic lines, the rich colors, or the blend of old and new?\\n\\nDo you have a favorite piece of furniture or decor that reflects your love for traditional and transitional styles?\\n\\nLet's chat more about your favorite styles and see if we can discover some commonalities or find some inspiration for your own home decor projects!\", additional_kwargs={}, response_metadata={'token_usage': {'completion_tokens': 195, 'prompt_tokens': 160, 'total_tokens': 355, 'completion_time': 0.24065038, 'prompt_time': 0.053292584, 'queue_time': 0.065234401, 'total_time': 0.293942964}, 'model_name': 'llama3-8b-8192', 'system_fingerprint': 'fp_0fb809dba3', 'service_tier': 'on_demand', 'finish_reason': 'stop', 'logprobs': None}, id='run--e385bde4-93a8-4c34-98db-5f749f01fc7a-0', usage_metadata={'input_tokens': 160, 'output_tokens': 195, 'total_tokens': 355}), HumanMessage(content='Hi My name is ABINAYA and I like Home decor', additional_kwargs={}, response_metadata={}, id='3d77be67-7998-4c21-a8cd-b471bdcbefac'), AIMessage(content=\"Hi Abinaya!\\n\\nIt's great to meet you! Home decor is a fascinating topic. What is it about home decor that you enjoy the most? Is it the creative process of designing a space, the art of mixing and matching different styles, or the joy of making a space feel cozy and inviting?\\n\\nDo you have a favorite style or era of home decor that inspires you, such as modern, minimalist, vintage, or bohemian?\\n\\nLet's chat about your love for home decor and see if we can discover some common interests or find some inspiration for your own home decor projects!\", additional_kwargs={}, response_metadata={'token_usage': {'completion_tokens': 120, 'prompt_tokens': 377, 'total_tokens': 497, 'completion_time': 0.117826008, 'prompt_time': 0.042676811, 'queue_time': 0.0017943090000000009, 'total_time': 0.160502819}, 'model_name': 'llama3-8b-8192', 'system_fingerprint': 'fp_5b339000ab', 'service_tier': 'on_demand', 'finish_reason': 'stop', 'logprobs': None}, id='run--f0abe601-2150-411f-8294-51f1705a7854-0', usage_metadata={'input_tokens': 377, 'output_tokens': 120, 'total_tokens': 497}), HumanMessage(content='I like a traditional and transitional styles ', additional_kwargs={}, response_metadata={}, id='5fa99c8e-9919-4d72-9d2e-aac9b06db3ed')]}\n",
      "{'messages': [HumanMessage(content='Hi My name is ABINAYA and I like Home decor', additional_kwargs={}, response_metadata={}, id='b53e4f11-2c17-4385-b097-7a00196903b7'), AIMessage(content=\"Hi Abinaya!\\n\\nIt's great to meet you! Home decor is a fascinating topic. What is it about home decor that you enjoy the most? Is it the creative process of designing a space, the art of mixing and matching different styles, or the joy of making a space feel cozy and inviting?\\n\\nDo you have a favorite style or era of home decor that inspires you, such as modern, minimalist, vintage, or bohemian?\\n\\nLet's chat about your love for home decor and see if we can discover some common interests or find some inspiration for your own home decor projects!\", additional_kwargs={}, response_metadata={'token_usage': {'completion_tokens': 120, 'prompt_tokens': 23, 'total_tokens': 143, 'completion_time': 0.116722921, 'prompt_time': 0.006725848, 'queue_time': 0.0012129239999999998, 'total_time': 0.123448769}, 'model_name': 'llama3-8b-8192', 'system_fingerprint': 'fp_5b339000ab', 'service_tier': 'on_demand', 'finish_reason': 'stop', 'logprobs': None}, id='run--6a5f44c3-052c-4a3e-917a-5146608785cd-0', usage_metadata={'input_tokens': 23, 'output_tokens': 120, 'total_tokens': 143}), HumanMessage(content='I like a traditional and transitional styles ', additional_kwargs={}, response_metadata={}, id='31c7f508-684f-4ea4-b6f6-13a492885a1d'), AIMessage(content=\"Traditional and transitional styles are both beautiful and timeless!\\n\\nTraditional style is known for its classic, elegant, and sophisticated look, often characterized by ornate details, rich textures, and classic patterns. It's a style that exudes warmth and comfort, making it perfect for creating a cozy and inviting atmosphere.\\n\\nTransitional style, on the other hand, blends traditional and modern elements to create a look that's both classic and contemporary. It's a style that's all about balance and harmony, combining the best of both worlds to create a space that's both beautiful and functional.\\n\\nWhat is it about traditional and transitional styles that speaks to you? Is it the classic lines, the rich colors, or the blend of old and new?\\n\\nDo you have a favorite piece of furniture or decor that reflects your love for traditional and transitional styles?\\n\\nLet's chat more about your favorite styles and see if we can discover some commonalities or find some inspiration for your own home decor projects!\", additional_kwargs={}, response_metadata={'token_usage': {'completion_tokens': 195, 'prompt_tokens': 160, 'total_tokens': 355, 'completion_time': 0.24065038, 'prompt_time': 0.053292584, 'queue_time': 0.065234401, 'total_time': 0.293942964}, 'model_name': 'llama3-8b-8192', 'system_fingerprint': 'fp_0fb809dba3', 'service_tier': 'on_demand', 'finish_reason': 'stop', 'logprobs': None}, id='run--e385bde4-93a8-4c34-98db-5f749f01fc7a-0', usage_metadata={'input_tokens': 160, 'output_tokens': 195, 'total_tokens': 355}), HumanMessage(content='Hi My name is ABINAYA and I like Home decor', additional_kwargs={}, response_metadata={}, id='3d77be67-7998-4c21-a8cd-b471bdcbefac'), AIMessage(content=\"Hi Abinaya!\\n\\nIt's great to meet you! Home decor is a fascinating topic. What is it about home decor that you enjoy the most? Is it the creative process of designing a space, the art of mixing and matching different styles, or the joy of making a space feel cozy and inviting?\\n\\nDo you have a favorite style or era of home decor that inspires you, such as modern, minimalist, vintage, or bohemian?\\n\\nLet's chat about your love for home decor and see if we can discover some common interests or find some inspiration for your own home decor projects!\", additional_kwargs={}, response_metadata={'token_usage': {'completion_tokens': 120, 'prompt_tokens': 377, 'total_tokens': 497, 'completion_time': 0.117826008, 'prompt_time': 0.042676811, 'queue_time': 0.0017943090000000009, 'total_time': 0.160502819}, 'model_name': 'llama3-8b-8192', 'system_fingerprint': 'fp_5b339000ab', 'service_tier': 'on_demand', 'finish_reason': 'stop', 'logprobs': None}, id='run--f0abe601-2150-411f-8294-51f1705a7854-0', usage_metadata={'input_tokens': 377, 'output_tokens': 120, 'total_tokens': 497}), HumanMessage(content='I like a traditional and transitional styles ', additional_kwargs={}, response_metadata={}, id='5fa99c8e-9919-4d72-9d2e-aac9b06db3ed'), AIMessage(content=\"Traditional and transitional styles are both beautiful and timeless!\\n\\nTraditional style is known for its classic, elegant, and sophisticated look, often characterized by ornate details, rich textures, and classic patterns. It's a style that exudes warmth and comfort, making it perfect for creating a cozy and inviting atmosphere.\\n\\nTransitional style, on the other hand, blends traditional and modern elements to create a look that's both classic and contemporary. It's a style that's all about balance and harmony, combining the best of both worlds to create a space that's both beautiful and functional.\\n\\nWhat is it about traditional and transitional styles that speaks to you? Is it the classic lines, the rich colors, or the blend of old and new?\\n\\nDo you have a favorite piece of furniture or decor that reflects your love for traditional and transitional styles?\\n\\nLet's chat more about your favorite styles and see if we can discover some commonalities or find some inspiration for your own home decor projects!\", additional_kwargs={}, response_metadata={'token_usage': {'completion_tokens': 195, 'prompt_tokens': 514, 'total_tokens': 709, 'completion_time': 0.191428823, 'prompt_time': 0.057871566, 'queue_time': 0.002085653, 'total_time': 0.249300389}, 'model_name': 'llama3-8b-8192', 'system_fingerprint': 'fp_5b339000ab', 'service_tier': 'on_demand', 'finish_reason': 'stop', 'logprobs': None}, id='run--2801a7ee-40c2-44f7-ad40-b2b668d19fc9-0', usage_metadata={'input_tokens': 514, 'output_tokens': 195, 'total_tokens': 709})]}\n"
     ]
    }
   ],
   "source": [
    "config = {\"configurable\": {\"thread_id\": \"4\"}}\n",
    "\n",
    "for chunk in graph_builder.stream(\n",
    "        {\"messages\": [\"Hi My name is ABINAYA and I like Home decor\"]}, config=config, stream_mode=\"updates\"):\n",
    "    print(chunk)\n",
    "\n",
    "for chunk in graph_builder.stream(\n",
    "        {\"messages\": [\"I like a traditional and transitional styles \"]}, config=config, stream_mode=\"values\"):\n",
    "    print(chunk)"
   ]
  }
 ],
 "metadata": {
  "kernelspec": {
   "display_name": "Agentic AI Workspace (3.13.4)",
   "language": "python",
   "name": "python3"
  },
  "language_info": {
   "codemirror_mode": {
    "name": "ipython",
    "version": 3
   },
   "file_extension": ".py",
   "mimetype": "text/x-python",
   "name": "python",
   "nbconvert_exporter": "python",
   "pygments_lexer": "ipython3",
   "version": "3.13.4"
  }
 },
 "nbformat": 4,
 "nbformat_minor": 5
}
